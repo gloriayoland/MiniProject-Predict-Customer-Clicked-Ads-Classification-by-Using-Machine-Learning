{
 "cells": [
  {
   "cell_type": "markdown",
   "id": "12995286-706d-40d9-ac6e-7f09e86b2c11",
   "metadata": {},
   "source": [
    "# **Predict Customer Clicked Ads Classification by Using Machine Learning**\n",
    "\n",
    "---"
   ]
  },
  {
   "cell_type": "code",
   "execution_count": null,
   "id": "dd074dfc-0b6b-4dee-8c89-b9ab6b532729",
   "metadata": {},
   "outputs": [],
   "source": []
  }
 ],
 "metadata": {
  "kernelspec": {
   "display_name": "Python 3 (ipykernel)",
   "language": "python",
   "name": "python3"
  },
  "language_info": {
   "codemirror_mode": {
    "name": "ipython",
    "version": 3
   },
   "file_extension": ".py",
   "mimetype": "text/x-python",
   "name": "python",
   "nbconvert_exporter": "python",
   "pygments_lexer": "ipython3",
   "version": "3.9.13"
  }
 },
 "nbformat": 4,
 "nbformat_minor": 5
}
