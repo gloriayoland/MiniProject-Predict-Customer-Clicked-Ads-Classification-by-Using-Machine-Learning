{
 "cells": [
  {
   "cell_type": "markdown",
   "id": "12995286-706d-40d9-ac6e-7f09e86b2c11",
   "metadata": {},
   "source": [
    "<font size = \"10\"> **Predict Customer Clicked Ads Classification by Using Machine Learning**\n",
    "\n",
    "---"
   ]
  },
  {
   "cell_type": "markdown",
   "id": "c47d67d8-abd8-4d25-b0af-779bb07d558a",
   "metadata": {},
   "source": [
    "## Import"
   ]
  },
  {
   "cell_type": "code",
   "execution_count": 1,
   "id": "dd074dfc-0b6b-4dee-8c89-b9ab6b532729",
   "metadata": {},
   "outputs": [],
   "source": [
    "import pandas as pd\n",
    "import numpy as np\n",
    "import matplotlib.pyplot as plt\n",
    "import seaborn as sns\n",
    "\n",
    "import warnings\n",
    "warnings.filterwarnings('ignore')"
   ]
  },
  {
   "cell_type": "markdown",
   "id": "67bd6ed1-41da-4544-9bf5-2ddc06f82b47",
   "metadata": {},
   "source": [
    "## Data Overview"
   ]
  },
  {
   "cell_type": "code",
   "execution_count": 4,
   "id": "a77e80de-8f04-41d5-a07c-78b210fb61a2",
   "metadata": {},
   "outputs": [
    {
     "data": {
      "text/html": [
       "<div>\n",
       "<style scoped>\n",
       "    .dataframe tbody tr th:only-of-type {\n",
       "        vertical-align: middle;\n",
       "    }\n",
       "\n",
       "    .dataframe tbody tr th {\n",
       "        vertical-align: top;\n",
       "    }\n",
       "\n",
       "    .dataframe thead th {\n",
       "        text-align: right;\n",
       "    }\n",
       "</style>\n",
       "<table border=\"1\" class=\"dataframe\">\n",
       "  <thead>\n",
       "    <tr style=\"text-align: right;\">\n",
       "      <th></th>\n",
       "      <th>Daily Time Spent on Site</th>\n",
       "      <th>Age</th>\n",
       "      <th>Area Income</th>\n",
       "      <th>Daily Internet Usage</th>\n",
       "      <th>Male</th>\n",
       "      <th>Timestamp</th>\n",
       "      <th>Clicked on Ad</th>\n",
       "      <th>city</th>\n",
       "      <th>province</th>\n",
       "      <th>category</th>\n",
       "    </tr>\n",
       "  </thead>\n",
       "  <tbody>\n",
       "    <tr>\n",
       "      <th>0</th>\n",
       "      <td>68.95</td>\n",
       "      <td>35</td>\n",
       "      <td>432837300.0</td>\n",
       "      <td>256.09</td>\n",
       "      <td>Perempuan</td>\n",
       "      <td>3/27/2016 0:53</td>\n",
       "      <td>No</td>\n",
       "      <td>Jakarta Timur</td>\n",
       "      <td>Daerah Khusus Ibukota Jakarta</td>\n",
       "      <td>Furniture</td>\n",
       "    </tr>\n",
       "    <tr>\n",
       "      <th>1</th>\n",
       "      <td>80.23</td>\n",
       "      <td>31</td>\n",
       "      <td>479092950.0</td>\n",
       "      <td>193.77</td>\n",
       "      <td>Laki-Laki</td>\n",
       "      <td>4/4/2016 1:39</td>\n",
       "      <td>No</td>\n",
       "      <td>Denpasar</td>\n",
       "      <td>Bali</td>\n",
       "      <td>Food</td>\n",
       "    </tr>\n",
       "    <tr>\n",
       "      <th>2</th>\n",
       "      <td>69.47</td>\n",
       "      <td>26</td>\n",
       "      <td>418501580.0</td>\n",
       "      <td>236.50</td>\n",
       "      <td>Perempuan</td>\n",
       "      <td>3/13/2016 20:35</td>\n",
       "      <td>No</td>\n",
       "      <td>Surabaya</td>\n",
       "      <td>Jawa Timur</td>\n",
       "      <td>Electronic</td>\n",
       "    </tr>\n",
       "    <tr>\n",
       "      <th>3</th>\n",
       "      <td>74.15</td>\n",
       "      <td>29</td>\n",
       "      <td>383643260.0</td>\n",
       "      <td>245.89</td>\n",
       "      <td>Laki-Laki</td>\n",
       "      <td>1/10/2016 2:31</td>\n",
       "      <td>No</td>\n",
       "      <td>Batam</td>\n",
       "      <td>Kepulauan Riau</td>\n",
       "      <td>House</td>\n",
       "    </tr>\n",
       "    <tr>\n",
       "      <th>4</th>\n",
       "      <td>68.37</td>\n",
       "      <td>35</td>\n",
       "      <td>517229930.0</td>\n",
       "      <td>225.58</td>\n",
       "      <td>Perempuan</td>\n",
       "      <td>6/3/2016 3:36</td>\n",
       "      <td>No</td>\n",
       "      <td>Medan</td>\n",
       "      <td>Sumatra Utara</td>\n",
       "      <td>Finance</td>\n",
       "    </tr>\n",
       "  </tbody>\n",
       "</table>\n",
       "</div>"
      ],
      "text/plain": [
       "   Daily Time Spent on Site  Age  Area Income  Daily Internet Usage  \\\n",
       "0                     68.95   35  432837300.0                256.09   \n",
       "1                     80.23   31  479092950.0                193.77   \n",
       "2                     69.47   26  418501580.0                236.50   \n",
       "3                     74.15   29  383643260.0                245.89   \n",
       "4                     68.37   35  517229930.0                225.58   \n",
       "\n",
       "        Male        Timestamp Clicked on Ad           city  \\\n",
       "0  Perempuan   3/27/2016 0:53            No  Jakarta Timur   \n",
       "1  Laki-Laki    4/4/2016 1:39            No       Denpasar   \n",
       "2  Perempuan  3/13/2016 20:35            No       Surabaya   \n",
       "3  Laki-Laki   1/10/2016 2:31            No          Batam   \n",
       "4  Perempuan    6/3/2016 3:36            No          Medan   \n",
       "\n",
       "                        province    category  \n",
       "0  Daerah Khusus Ibukota Jakarta   Furniture  \n",
       "1                           Bali        Food  \n",
       "2                     Jawa Timur  Electronic  \n",
       "3                 Kepulauan Riau       House  \n",
       "4                  Sumatra Utara     Finance  "
      ]
     },
     "execution_count": 4,
     "metadata": {},
     "output_type": "execute_result"
    }
   ],
   "source": [
    "df = pd.read_csv('Clicked Ads Dataset.csv', index_col = 0)\n",
    "df.head()"
   ]
  },
  {
   "cell_type": "code",
   "execution_count": 5,
   "id": "878226ca-5add-4cd3-a53d-ac6cefdb2806",
   "metadata": {},
   "outputs": [
    {
     "name": "stdout",
     "output_type": "stream",
     "text": [
      "<class 'pandas.core.frame.DataFrame'>\n",
      "Int64Index: 1000 entries, 0 to 999\n",
      "Data columns (total 10 columns):\n",
      " #   Column                    Non-Null Count  Dtype  \n",
      "---  ------                    --------------  -----  \n",
      " 0   Daily Time Spent on Site  987 non-null    float64\n",
      " 1   Age                       1000 non-null   int64  \n",
      " 2   Area Income               987 non-null    float64\n",
      " 3   Daily Internet Usage      989 non-null    float64\n",
      " 4   Male                      997 non-null    object \n",
      " 5   Timestamp                 1000 non-null   object \n",
      " 6   Clicked on Ad             1000 non-null   object \n",
      " 7   city                      1000 non-null   object \n",
      " 8   province                  1000 non-null   object \n",
      " 9   category                  1000 non-null   object \n",
      "dtypes: float64(3), int64(1), object(6)\n",
      "memory usage: 85.9+ KB\n"
     ]
    }
   ],
   "source": [
    "df.info()"
   ]
  },
  {
   "cell_type": "code",
   "execution_count": 11,
   "id": "5ff0d2a1-83b1-4088-93b5-501f139aece1",
   "metadata": {},
   "outputs": [],
   "source": [
    "# change data type of Timestamp from object to datetime\n",
    "df['Timestamp'] = pd.to_datetime(df['Timestamp'])\n",
    "\n",
    "# rename column name Male to Gender\n",
    "df = df.rename(columns={'Male' : 'Gender'})"
   ]
  },
  {
   "cell_type": "code",
   "execution_count": 12,
   "id": "6cca1a9b-50ad-4b16-8688-8239d5e00b34",
   "metadata": {},
   "outputs": [
    {
     "name": "stdout",
     "output_type": "stream",
     "text": [
      "<class 'pandas.core.frame.DataFrame'>\n",
      "Int64Index: 1000 entries, 0 to 999\n",
      "Data columns (total 10 columns):\n",
      " #   Column                    Non-Null Count  Dtype         \n",
      "---  ------                    --------------  -----         \n",
      " 0   Daily Time Spent on Site  987 non-null    float64       \n",
      " 1   Age                       1000 non-null   int64         \n",
      " 2   Area Income               987 non-null    float64       \n",
      " 3   Daily Internet Usage      989 non-null    float64       \n",
      " 4   Gender                    997 non-null    object        \n",
      " 5   Timestamp                 1000 non-null   datetime64[ns]\n",
      " 6   Clicked on Ad             1000 non-null   object        \n",
      " 7   city                      1000 non-null   object        \n",
      " 8   province                  1000 non-null   object        \n",
      " 9   category                  1000 non-null   object        \n",
      "dtypes: datetime64[ns](1), float64(3), int64(1), object(5)\n",
      "memory usage: 85.9+ KB\n"
     ]
    }
   ],
   "source": [
    "df.info()"
   ]
  },
  {
   "cell_type": "code",
   "execution_count": 13,
   "id": "8a6005c2-02ed-4870-9db3-a07031e7739a",
   "metadata": {},
   "outputs": [
    {
     "data": {
      "text/html": [
       "<div>\n",
       "<style scoped>\n",
       "    .dataframe tbody tr th:only-of-type {\n",
       "        vertical-align: middle;\n",
       "    }\n",
       "\n",
       "    .dataframe tbody tr th {\n",
       "        vertical-align: top;\n",
       "    }\n",
       "\n",
       "    .dataframe thead th {\n",
       "        text-align: right;\n",
       "    }\n",
       "</style>\n",
       "<table border=\"1\" class=\"dataframe\">\n",
       "  <thead>\n",
       "    <tr style=\"text-align: right;\">\n",
       "      <th></th>\n",
       "      <th>Daily Time Spent on Site</th>\n",
       "      <th>Age</th>\n",
       "      <th>Area Income</th>\n",
       "      <th>Daily Internet Usage</th>\n",
       "    </tr>\n",
       "  </thead>\n",
       "  <tbody>\n",
       "    <tr>\n",
       "      <th>count</th>\n",
       "      <td>987.000000</td>\n",
       "      <td>1000.000000</td>\n",
       "      <td>9.870000e+02</td>\n",
       "      <td>989.000000</td>\n",
       "    </tr>\n",
       "    <tr>\n",
       "      <th>mean</th>\n",
       "      <td>64.929524</td>\n",
       "      <td>36.009000</td>\n",
       "      <td>3.848647e+08</td>\n",
       "      <td>179.863620</td>\n",
       "    </tr>\n",
       "    <tr>\n",
       "      <th>std</th>\n",
       "      <td>15.844699</td>\n",
       "      <td>8.785562</td>\n",
       "      <td>9.407999e+07</td>\n",
       "      <td>43.870142</td>\n",
       "    </tr>\n",
       "    <tr>\n",
       "      <th>min</th>\n",
       "      <td>32.600000</td>\n",
       "      <td>19.000000</td>\n",
       "      <td>9.797550e+07</td>\n",
       "      <td>104.780000</td>\n",
       "    </tr>\n",
       "    <tr>\n",
       "      <th>25%</th>\n",
       "      <td>51.270000</td>\n",
       "      <td>29.000000</td>\n",
       "      <td>3.286330e+08</td>\n",
       "      <td>138.710000</td>\n",
       "    </tr>\n",
       "    <tr>\n",
       "      <th>50%</th>\n",
       "      <td>68.110000</td>\n",
       "      <td>35.000000</td>\n",
       "      <td>3.990683e+08</td>\n",
       "      <td>182.650000</td>\n",
       "    </tr>\n",
       "    <tr>\n",
       "      <th>75%</th>\n",
       "      <td>78.460000</td>\n",
       "      <td>42.000000</td>\n",
       "      <td>4.583554e+08</td>\n",
       "      <td>218.790000</td>\n",
       "    </tr>\n",
       "    <tr>\n",
       "      <th>max</th>\n",
       "      <td>91.430000</td>\n",
       "      <td>61.000000</td>\n",
       "      <td>5.563936e+08</td>\n",
       "      <td>267.010000</td>\n",
       "    </tr>\n",
       "  </tbody>\n",
       "</table>\n",
       "</div>"
      ],
      "text/plain": [
       "       Daily Time Spent on Site          Age   Area Income  \\\n",
       "count                987.000000  1000.000000  9.870000e+02   \n",
       "mean                  64.929524    36.009000  3.848647e+08   \n",
       "std                   15.844699     8.785562  9.407999e+07   \n",
       "min                   32.600000    19.000000  9.797550e+07   \n",
       "25%                   51.270000    29.000000  3.286330e+08   \n",
       "50%                   68.110000    35.000000  3.990683e+08   \n",
       "75%                   78.460000    42.000000  4.583554e+08   \n",
       "max                   91.430000    61.000000  5.563936e+08   \n",
       "\n",
       "       Daily Internet Usage  \n",
       "count            989.000000  \n",
       "mean             179.863620  \n",
       "std               43.870142  \n",
       "min              104.780000  \n",
       "25%              138.710000  \n",
       "50%              182.650000  \n",
       "75%              218.790000  \n",
       "max              267.010000  "
      ]
     },
     "execution_count": 13,
     "metadata": {},
     "output_type": "execute_result"
    }
   ],
   "source": [
    "df.describe()"
   ]
  },
  {
   "cell_type": "markdown",
   "id": "9ee82246-0670-4975-a181-2a22693b61e9",
   "metadata": {},
   "source": [
    "# EDA (Exploratory Data Analysis)"
   ]
  },
  {
   "cell_type": "markdown",
   "id": "1381a1b9-8e94-4ddc-870a-b4707beab123",
   "metadata": {},
   "source": [
    "## Univariate Analysis"
   ]
  },
  {
   "cell_type": "code",
   "execution_count": null,
   "id": "c6257fe9-6dd6-411e-87bd-ebdd6fd8bf30",
   "metadata": {},
   "outputs": [],
   "source": []
  },
  {
   "cell_type": "markdown",
   "id": "ca69aab2-c14e-447e-a1ff-87e26f8c79d0",
   "metadata": {},
   "source": [
    "## Bivariate Analysis"
   ]
  },
  {
   "cell_type": "markdown",
   "id": "edfe3857-011c-4c2c-b89e-27f10528b9e5",
   "metadata": {},
   "source": [
    "## Multivariate Analysis"
   ]
  },
  {
   "cell_type": "code",
   "execution_count": null,
   "id": "be52c986-cd37-431a-8514-e34f7180e3a3",
   "metadata": {},
   "outputs": [],
   "source": []
  }
 ],
 "metadata": {
  "kernelspec": {
   "display_name": "Python 3 (ipykernel)",
   "language": "python",
   "name": "python3"
  },
  "language_info": {
   "codemirror_mode": {
    "name": "ipython",
    "version": 3
   },
   "file_extension": ".py",
   "mimetype": "text/x-python",
   "name": "python",
   "nbconvert_exporter": "python",
   "pygments_lexer": "ipython3",
   "version": "3.9.13"
  }
 },
 "nbformat": 4,
 "nbformat_minor": 5
}
